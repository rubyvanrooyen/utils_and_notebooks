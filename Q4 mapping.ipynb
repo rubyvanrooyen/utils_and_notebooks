{
 "cells": [
  {
   "cell_type": "code",
   "execution_count": 1,
   "metadata": {
    "collapsed": true
   },
   "outputs": [],
   "source": [
    "import numpy as np"
   ]
  },
  {
   "cell_type": "code",
   "execution_count": 2,
   "metadata": {
    "collapsed": true
   },
   "outputs": [],
   "source": [
    "c0 = lambda i: int(i/4)%int(N/2) + N*int(i/(int(N/2)*4))"
   ]
  },
  {
   "cell_type": "code",
   "execution_count": 3,
   "metadata": {
    "collapsed": true
   },
   "outputs": [],
   "source": [
    "c1 = lambda i: 2*(int(N/2)-int(i/4)%int(N/2)) - 1"
   ]
  },
  {
   "cell_type": "code",
   "execution_count": 4,
   "metadata": {
    "collapsed": true
   },
   "outputs": [],
   "source": [
    "c2 = lambda i: (int(i/2)%2)*(M*N-1)"
   ]
  },
  {
   "cell_type": "code",
   "execution_count": 5,
   "metadata": {},
   "outputs": [],
   "source": [
    "map_idx = lambda idx: c2(idx) + (-1)**(int(idx/2)%2)*(c0(idx) + (idx%2)*c1(idx))"
   ]
  },
  {
   "cell_type": "code",
   "execution_count": 6,
   "metadata": {},
   "outputs": [
    {
     "name": "stdout",
     "output_type": "stream",
     "text": [
      " 0  0 0\n",
      " 1  3 3\n",
      " 2  7 7\n",
      " 3  4 4\n",
      " 4  1 1\n",
      " 5  2 2\n",
      " 6  6 6\n",
      " 7  5 5\n"
     ]
    }
   ],
   "source": [
    "# 0 1 2 3\n",
    "# 4 5 6 7\n",
    "M = 2\n",
    "N = 4\n",
    "arr = np.array([0, 1, 2, 3, 4, 5, 6, 7])\n",
    "arr_map = np.array([0, 3, 7, 4, 1, 2, 6, 5])\n",
    "for idx in arr:\n",
    "    print('{:2} {:2} {}'.format(idx, arr_map[idx], map_idx(idx)))"
   ]
  },
  {
   "cell_type": "code",
   "execution_count": 7,
   "metadata": {},
   "outputs": [
    {
     "name": "stdout",
     "output_type": "stream",
     "text": [
      " 0  0 0\n",
      " 1  3 3\n",
      " 2 15 15\n",
      " 3 12 12\n",
      " 4  1 1\n",
      " 5  2 2\n",
      " 6 14 14\n",
      " 7 13 13\n",
      " 8  4 4\n",
      " 9  7 7\n",
      "10 11 11\n",
      "11  8 8\n",
      "12  5 5\n",
      "13  6 6\n",
      "14 10 10\n",
      "15  9 9\n"
     ]
    }
   ],
   "source": [
    "#  0  1  2  3\n",
    "#  4  5  6  7\n",
    "#  8  9 10 11\n",
    "# 12 13 14 15\n",
    "M = 4\n",
    "N = 4\n",
    "arr = np.array([0, 1, 2, 3, 4, 5, 6, 7, 8, 9, 10, 11, 12, 13, 14, 15])\n",
    "arr_map = np.array([0, 3, 15, 12, 1, 2, 14, 13, 4, 7, 11, 8, 5, 6, 10, 9])\n",
    "for idx in arr:\n",
    "    print('{:2} {:2} {}'.format(idx, arr_map[idx], map_idx(idx)))"
   ]
  },
  {
   "cell_type": "code",
   "execution_count": 8,
   "metadata": {},
   "outputs": [
    {
     "name": "stdout",
     "output_type": "stream",
     "text": [
      " 0  0 0\n",
      " 1  5 5\n",
      " 2 23 23\n",
      " 3 18 18\n",
      " 4  1 1\n",
      " 5  4 4\n",
      " 6 22 22\n",
      " 7 19 19\n",
      " 8  2 2\n",
      " 9  3 3\n",
      "10 21 21\n",
      "11 20 20\n",
      "12  6 6\n",
      "13 11 11\n",
      "14 17 17\n",
      "15 12 12\n",
      "16  7 7\n",
      "17 10 10\n",
      "18 16 16\n",
      "19 13 13\n",
      "20  8 8\n",
      "21  9 9\n",
      "22 15 15\n",
      "23 14 14\n"
     ]
    }
   ],
   "source": [
    "#  0  1  2  3  4  5\n",
    "#  6  7  8  9 10 11\n",
    "# 12 13 14 15 16 17\n",
    "# 18 19 20 21 22 23\n",
    "M = 4\n",
    "N = 6\n",
    "arr = np.array([0, 1, 2, 3, 4, 5, 6, 7, 8, 9, 10, 11, 12, 13, 14, 15, 16, 17, 18, 19, 20, 21, 22, 23])\n",
    "arr_map = np.array([0, 5, 23, 18, 1, 4, 22, 19, 2, 3, 21, 20, 6, 11, 17, 12, 7, 10, 16, 13, 8, 9, 15, 14])\n",
    "for idx in arr:\n",
    "    print('{:2} {:2} {}'.format(idx, arr_map[idx], map_idx(idx)))"
   ]
  },
  {
   "cell_type": "code",
   "execution_count": 9,
   "metadata": {},
   "outputs": [
    {
     "name": "stdout",
     "output_type": "stream",
     "text": [
      " 0  0 0\n",
      " 1  3 3\n",
      " 2 23 23\n",
      " 3 20 20\n",
      " 4  1 1\n",
      " 5  2 2\n",
      " 6 22 22\n",
      " 7 21 21\n",
      " 8  4 4\n",
      " 9  7 7\n",
      "10 19 19\n",
      "11 16 16\n",
      "12  5 5\n",
      "13  6 6\n",
      "14 18 18\n",
      "15 17 17\n",
      "16  8 8\n",
      "17 11 11\n",
      "18 15 15\n",
      "19 12 12\n",
      "20  9 9\n",
      "21 10 10\n",
      "22 14 14\n",
      "23 13 13\n"
     ]
    }
   ],
   "source": [
    "#  0  1  2  3\n",
    "#  4  5  6  7\n",
    "#  8  9 10 11\n",
    "# 12 13 14 15\n",
    "# 16 17 18 19\n",
    "# 20 21 22 23\n",
    "M = 6\n",
    "N = 4\n",
    "arr = np.array([0, 1, 2, 3, 4, 5, 6, 7, 8, 9, 10, 11, 12, 13, 14, 15, 16, 17, 18, 19, 20, 21, 22, 23])\n",
    "arr_map = np.array([0, 3, 23, 20, 1, 2, 22, 21, 4, 7, 19, 16, 5, 6, 18, 17, 8, 11, 15, 12, 9, 10, 14, 13])\n",
    "for idx in arr:\n",
    "    print('{:2} {:2} {}'.format(idx, arr_map[idx], map_idx(idx)))"
   ]
  },
  {
   "cell_type": "code",
   "execution_count": 10,
   "metadata": {},
   "outputs": [
    {
     "name": "stdout",
     "output_type": "stream",
     "text": [
      "0 0 0\n",
      "0 1 1\n",
      "0 2 2\n",
      "0 3 3\n",
      "1 0 4\n",
      "1 1 5\n",
      "1 2 6\n",
      "1 3 7\n",
      "2 0 8\n",
      "2 1 9\n",
      "2 2 10\n",
      "2 3 11\n",
      "3 0 12\n",
      "3 1 13\n",
      "3 2 14\n",
      "3 3 15\n",
      "4 0 16\n",
      "4 1 17\n",
      "4 2 18\n",
      "4 3 19\n",
      "5 0 20\n",
      "5 1 21\n",
      "5 2 22\n",
      "5 3 23\n"
     ]
    }
   ],
   "source": [
    "for m in range(M):\n",
    "    for n in range(N):\n",
    "        idx = N*m+n\n",
    "        print(m, n, idx)"
   ]
  },
  {
   "cell_type": "code",
   "execution_count": null,
   "metadata": {
    "collapsed": true
   },
   "outputs": [],
   "source": []
  }
 ],
 "metadata": {
  "finalized": {
   "timestamp": 1597047566996,
   "trusted": true
  },
  "kernelspec": {
   "display_name": "Python 3",
   "language": "python",
   "name": "python3"
  },
  "language_info": {
   "codemirror_mode": {
    "name": "ipython",
    "version": 3
   },
   "file_extension": ".py",
   "mimetype": "text/x-python",
   "name": "python",
   "nbconvert_exporter": "python",
   "pygments_lexer": "ipython3",
   "version": "3.5.2"
  }
 },
 "nbformat": 4,
 "nbformat_minor": 2
}
