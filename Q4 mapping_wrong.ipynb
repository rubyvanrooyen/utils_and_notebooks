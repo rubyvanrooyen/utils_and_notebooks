{
 "cells": [
  {
   "cell_type": "code",
   "execution_count": 94,
   "metadata": {
    "collapsed": true
   },
   "outputs": [],
   "source": [
    "import numpy as np"
   ]
  },
  {
   "cell_type": "code",
   "execution_count": 95,
   "metadata": {
    "collapsed": false
   },
   "outputs": [],
   "source": [
    "#c0 = lambda i: (N/2)*(i*2/(M*N))*(M/2-1) + (i/4)\n",
    "c0 = lambda i: (M/2)*(i*2/(M*N))*(N/2-1) + (i/4)"
   ]
  },
  {
   "cell_type": "code",
   "execution_count": 96,
   "metadata": {
    "collapsed": false
   },
   "outputs": [],
   "source": [
    "#c1 = lambda i: N*(1 + (i/(M*N/2))) - (i/2+1)\n",
    "c1 = lambda i: M*(1 + (i/(M*N/2))) - (i/2+1)"
   ]
  },
  {
   "cell_type": "code",
   "execution_count": 97,
   "metadata": {
    "collapsed": true
   },
   "outputs": [],
   "source": [
    "c2 = lambda i: ((i/2)%2)*((i/2)%2 + i%2)"
   ]
  },
  {
   "cell_type": "raw",
   "metadata": {
    "collapsed": false
   },
   "source": [
    "for idx in arr:\n",
    "    map_idx = (idx/2)%2*M*N + (-1)**(idx/2%2)*((c0(idx) + (idx%2)*c1(idx)) + c2(idx))\n",
    "    print idx, map_idx"
   ]
  },
  {
   "cell_type": "code",
   "execution_count": 98,
   "metadata": {
    "collapsed": true
   },
   "outputs": [],
   "source": [
    "M = 4\n",
    "N = 6\n",
    "\n",
    "arr = np.array([0, 1, 2, 3, 4, 5, 6, 7, 8, 9, 10, 11, 12, 13, 14, 15, 16, 17, 18, 19, 20, 21, 22, 23])\n",
    "arr_map = np.array([0, 5, 23, 18, 1, 4, 22, 19, 2, 3, 21, 20, 6, 11, 17, 12, 7, 10, 16, 13, 8, 9, 15, 14])"
   ]
  },
  {
   "cell_type": "code",
   "execution_count": 144,
   "metadata": {
    "collapsed": false
   },
   "outputs": [
    {
     "name": "stdout",
     "output_type": "stream",
     "text": [
      "0 0  0  0  0 0\n",
      "0 1  6 22 22 22\n",
      "0 2 12  6  7 6\n",
      "0 3 18 16 15 16\n",
      "1 0  1  5  3 1\n",
      "1 1  7 19 21 23\n",
      "1 2 13 11  8 5\n",
      "1 3 19 13 16 19\n",
      "2 0  2 23 23 23\n",
      "2 1  8  2  2 2\n",
      "2 2 14 17 16 17\n",
      "2 3 20  8  9 8\n",
      "3 0  3 18 20 22\n",
      "3 1  9  3  1 -1\n",
      "3 2 15 12 15 18\n",
      "3 3 21  9  6 3\n",
      "4 0  4  1  1 1\n",
      "4 1 10 21 21 21\n",
      "4 2 16  7  8 7\n",
      "4 3 22 15 14 15\n",
      "5 0  5  4  2 0\n",
      "5 1 11 20 22 24\n",
      "5 2 17 10  7 4\n",
      "5 3 23 14 17 20\n"
     ]
    }
   ],
   "source": [
    "for n in range(N):\n",
    "    for m in range(M):\n",
    "        idx = N*m+n\n",
    "        map_idx = (idx/2)%2*M*N + (-1)**(idx/2%2)*((c0(idx) + (idx%2)*c1(idx)) + c2(idx))\n",
    "        print '{} {} {:2} {:2} {:2} {}'.format(\n",
    "            n, m, idx, arr_map[idx], map_idx, map_idx-(-1)**((idx/2)%2)*((idx%2)*2+ idx/(M*N/2)))"
   ]
  },
  {
   "cell_type": "code",
   "execution_count": null,
   "metadata": {
    "collapsed": true
   },
   "outputs": [],
   "source": []
  },
  {
   "cell_type": "code",
   "execution_count": 86,
   "metadata": {
    "collapsed": false,
    "scrolled": true
   },
   "outputs": [
    {
     "name": "stdout",
     "output_type": "stream",
     "text": [
      "0 0  0  0  0\n",
      "0 1  1  3  5\n",
      "0 2  2 23 23\n",
      "0 3  3 20 18\n",
      "1 0  4  1  1\n",
      "1 1  5  2  4\n",
      "1 2  6 22 22\n",
      "1 3  7 21 19\n",
      "2 0  8  2  2\n",
      "2 1  9  1  3\n",
      "2 2 10 21 21\n",
      "2 3 11 22 20\n",
      "3 0 12  7  6\n",
      "3 1 13  8 11\n",
      "3 2 14 16 17\n",
      "3 3 15 15 12\n",
      "4 0 16  8  7\n",
      "4 1 17  7 10\n",
      "4 2 18 15 16\n",
      "4 3 19 16 13\n",
      "5 0 20  9  8\n",
      "5 1 21  6  9\n",
      "5 2 22 14 15\n",
      "5 3 23 17 14\n"
     ]
    }
   ],
   "source": [
    "for n in range(N):\n",
    "    for m in range(M):\n",
    "        idx = M*n+m\n",
    "        map_idx = (idx/2)%2*M*N + (-1)**(idx/2%2)*((c0(idx) + (idx%2)*c1(idx)) + c2(idx))\n",
    "        print '{} {} {:2} {:2} {:2}'.format(\n",
    "            n, m, idx, map_idx, arr_map[idx])"
   ]
  },
  {
   "cell_type": "code",
   "execution_count": null,
   "metadata": {
    "collapsed": true
   },
   "outputs": [],
   "source": []
  },
  {
   "cell_type": "code",
   "execution_count": 44,
   "metadata": {
    "collapsed": true
   },
   "outputs": [],
   "source": [
    "M=4\n",
    "N=6\n",
    "\n",
    "M = 6\n",
    "N = 4\n",
    "\n",
    "arr = np.array([0, 1, 2, 3, 4, 5, 6, 7, 8, 9, 10, 11, 12, 13, 14, 15, 16, 17, 18, 19, 20, 21, 22, 23])\n",
    "arr_map = np.array([0, 5, 23, 18, 1, 4, 22, 19, 2, 3, 21, 20, 6, 11, 17, 12, 7, 10, 16, 13, 8, 9, 15, 14])"
   ]
  },
  {
   "cell_type": "code",
   "execution_count": 45,
   "metadata": {
    "collapsed": false
   },
   "outputs": [
    {
     "name": "stdout",
     "output_type": "stream",
     "text": [
      "0 0  0  0  0\n",
      "0 1  1  5  5\n",
      "0 2  2 23 23\n",
      "0 3  3 18 18\n",
      "1 0  4  1  1\n",
      "1 1  5  4  4\n",
      "1 2  6 22 22\n",
      "1 3  7 19 19\n",
      "2 0  8  2  2\n",
      "2 1  9  3  3\n",
      "2 2 10 21 21\n",
      "2 3 11 20 20\n",
      "3 0 12  6  6\n",
      "3 1 13 11 11\n",
      "3 2 14 17 17\n",
      "3 3 15 12 12\n",
      "4 0 16  7  7\n",
      "4 1 17 10 10\n",
      "4 2 18 16 16\n",
      "4 3 19 13 13\n",
      "5 0 20  8  8\n",
      "5 1 21  9  9\n",
      "5 2 22 15 15\n",
      "5 3 23 14 14\n"
     ]
    }
   ],
   "source": [
    "for m in range(M):\n",
    "    for n in range(N):\n",
    "        idx = N*m+n\n",
    "        map_idx = (idx/2)%2*M*N + (-1)**(idx/2%2)*((c0(idx) + (idx%2)*c1(idx)) + c2(idx))\n",
    "        print '{} {} {:2} {:2} {:2}'.format(\n",
    "            m, n, idx, map_idx, arr_map[idx])"
   ]
  },
  {
   "cell_type": "code",
   "execution_count": null,
   "metadata": {
    "collapsed": true
   },
   "outputs": [],
   "source": []
  }
 ],
 "metadata": {
  "kernelspec": {
   "display_name": "Python 2",
   "language": "python",
   "name": "python2"
  },
  "language_info": {
   "codemirror_mode": {
    "name": "ipython",
    "version": 2
   },
   "file_extension": ".py",
   "mimetype": "text/x-python",
   "name": "python",
   "nbconvert_exporter": "python",
   "pygments_lexer": "ipython2",
   "version": "2.7.12"
  }
 },
 "nbformat": 4,
 "nbformat_minor": 2
}
